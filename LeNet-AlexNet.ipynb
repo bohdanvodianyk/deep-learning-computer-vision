{
  "nbformat": 4,
  "nbformat_minor": 0,
  "metadata": {
    "colab": {
      "provenance": [],
      "gpuType": "T4"
    },
    "kernelspec": {
      "name": "python3",
      "display_name": "Python 3"
    },
    "language_info": {
      "name": "python"
    },
    "accelerator": "GPU"
  },
  "cells": [
    {
      "cell_type": "markdown",
      "source": [
        "## LeNet"
      ],
      "metadata": {
        "id": "IKoEo2Cq6xIH"
      }
    },
    {
      "cell_type": "code",
      "execution_count": 1,
      "metadata": {
        "id": "_NZ6j7OgtV3A"
      },
      "outputs": [],
      "source": [
        "from tensorflow.keras.preprocessing.image import ImageDataGenerator\n",
        "from tensorflow.keras.models import Sequential\n",
        "from tensorflow.keras.layers import Dense, Dropout, Activation, Flatten\n",
        "from tensorflow.keras.layers import Conv2D, MaxPooling2D, ZeroPadding2D\n",
        "from tensorflow.keras.regularizers import l2\n",
        "from tensorflow.keras.datasets import mnist\n",
        "from tensorflow.keras.utils import to_categorical\n",
        "from tensorflow.keras.optimizers import Adadelta"
      ]
    },
    {
      "cell_type": "code",
      "source": [
        "(x_train, y_train), (x_test, y_test) = mnist.load_data()"
      ],
      "metadata": {
        "colab": {
          "base_uri": "https://localhost:8080/"
        },
        "id": "8_UfbpriuTSN",
        "outputId": "594ebbf7-7285-4be0-ca6e-0a353cbfa133"
      },
      "execution_count": 2,
      "outputs": [
        {
          "output_type": "stream",
          "name": "stdout",
          "text": [
            "Downloading data from https://storage.googleapis.com/tensorflow/tf-keras-datasets/mnist.npz\n",
            "11490434/11490434 [==============================] - 2s 0us/step\n"
          ]
        }
      ]
    },
    {
      "cell_type": "code",
      "source": [
        "img_rows = x_train[0].shape[0]\n",
        "img_cols = x_train[1].shape[0]"
      ],
      "metadata": {
        "id": "en3xTbCuuaxG"
      },
      "execution_count": 3,
      "outputs": []
    },
    {
      "cell_type": "code",
      "source": [
        "x_train = x_train.reshape(x_train.shape[0], img_rows, img_cols, 1)\n",
        "x_test = x_test.reshape(x_test.shape[0], img_rows, img_cols, 1)"
      ],
      "metadata": {
        "id": "_hf_KX2QwhRz"
      },
      "execution_count": 5,
      "outputs": []
    },
    {
      "cell_type": "code",
      "source": [
        "input_shape = (img_rows, img_cols, 1)\n",
        "\n",
        "x_train = x_train.astype(\"float32\")\n",
        "x_test = x_test.astype(\"float32\")\n",
        "\n",
        "x_train /= 255\n",
        "x_test /= 255\n",
        "\n",
        "y_train = to_categorical(y_train)\n",
        "y_test = to_categorical(y_test)\n",
        "\n",
        "num_classes = y_test.shape[1]\n",
        "num_pixels = x_train.shape[1]*x_train.shape[2]"
      ],
      "metadata": {
        "id": "pXAhhB37wtL1"
      },
      "execution_count": 6,
      "outputs": []
    },
    {
      "cell_type": "code",
      "source": [
        "model = Sequential()\n",
        "\n",
        "model.add(Conv2D(6, (5, 5),\n",
        "                 padding=\"same\",\n",
        "                 input_shape=input_shape))\n",
        "model.add(Activation(\"relu\"))\n",
        "model.add(MaxPooling2D(pool_size=(2, 2), strides=(2, 2)))\n",
        "model.add(Conv2D(16, (5, 5),\n",
        "                 padding=\"same\"))\n",
        "model.add(Activation(\"relu\"))\n",
        "model.add(MaxPooling2D(pool_size=(2, 2), strides=(2, 2)))\n",
        "model.add(Conv2D(120, (5, 5),\n",
        "                 padding=\"same\"))\n",
        "model.add(Activation(\"relu\"))\n",
        "model.add(MaxPooling2D(pool_size=(2, 2), strides=(2, 2)))\n",
        "\n",
        "model.add(Flatten())\n",
        "model.add(Dense(120))\n",
        "model.add(Activation(\"relu\"))\n",
        "\n",
        "model.add(Dense(84))\n",
        "model.add(Activation(\"relu\"))\n",
        "model.add(Dense(num_classes))\n",
        "model.add(Activation(\"softmax\"))\n",
        "\n",
        "model.compile(loss=\"categorical_crossentropy\",\n",
        "               optimizer=Adadelta(),\n",
        "               metrics=['accuracy'])\n",
        "\n",
        "print(model.summary())"
      ],
      "metadata": {
        "colab": {
          "base_uri": "https://localhost:8080/"
        },
        "id": "RnDg-6FFxib5",
        "outputId": "a0bb8461-24ea-4894-8a77-5468b9d4bf51"
      },
      "execution_count": 10,
      "outputs": [
        {
          "output_type": "stream",
          "name": "stdout",
          "text": [
            "Model: \"sequential_3\"\n",
            "_________________________________________________________________\n",
            " Layer (type)                Output Shape              Param #   \n",
            "=================================================================\n",
            " conv2d_9 (Conv2D)           (None, 28, 28, 6)         156       \n",
            "                                                                 \n",
            " activation_18 (Activation)  (None, 28, 28, 6)         0         \n",
            "                                                                 \n",
            " max_pooling2d_9 (MaxPoolin  (None, 14, 14, 6)         0         \n",
            " g2D)                                                            \n",
            "                                                                 \n",
            " conv2d_10 (Conv2D)          (None, 14, 14, 16)        2416      \n",
            "                                                                 \n",
            " activation_19 (Activation)  (None, 14, 14, 16)        0         \n",
            "                                                                 \n",
            " max_pooling2d_10 (MaxPooli  (None, 7, 7, 16)          0         \n",
            " ng2D)                                                           \n",
            "                                                                 \n",
            " conv2d_11 (Conv2D)          (None, 7, 7, 120)         48120     \n",
            "                                                                 \n",
            " activation_20 (Activation)  (None, 7, 7, 120)         0         \n",
            "                                                                 \n",
            " max_pooling2d_11 (MaxPooli  (None, 3, 3, 120)         0         \n",
            " ng2D)                                                           \n",
            "                                                                 \n",
            " flatten_3 (Flatten)         (None, 1080)              0         \n",
            "                                                                 \n",
            " dense_9 (Dense)             (None, 120)               129720    \n",
            "                                                                 \n",
            " activation_21 (Activation)  (None, 120)               0         \n",
            "                                                                 \n",
            " dense_10 (Dense)            (None, 84)                10164     \n",
            "                                                                 \n",
            " activation_22 (Activation)  (None, 84)                0         \n",
            "                                                                 \n",
            " dense_11 (Dense)            (None, 10)                850       \n",
            "                                                                 \n",
            " activation_23 (Activation)  (None, 10)                0         \n",
            "                                                                 \n",
            "=================================================================\n",
            "Total params: 191426 (747.76 KB)\n",
            "Trainable params: 191426 (747.76 KB)\n",
            "Non-trainable params: 0 (0.00 Byte)\n",
            "_________________________________________________________________\n",
            "None\n"
          ]
        }
      ]
    },
    {
      "cell_type": "code",
      "source": [
        "batch_size = 128\n",
        "epochs = 50\n",
        "\n",
        "history = model.fit(x_train, y_train,\n",
        "                    batch_size=batch_size,\n",
        "                    epochs=epochs,\n",
        "                    validation_data=(x_test, y_test),\n",
        "                    shuffle=True)\n",
        "\n",
        "scores = model.evaluate(x_test, y_test, verbose=1)\n",
        "print(\"Test loss: \", scores[0])\n",
        "print(\"Test accuracy: \", scores[1])"
      ],
      "metadata": {
        "colab": {
          "base_uri": "https://localhost:8080/"
        },
        "id": "DnGji9Rw5fU6",
        "outputId": "ff8fd760-d73a-435f-81dd-d22b04a46137"
      },
      "execution_count": 11,
      "outputs": [
        {
          "output_type": "stream",
          "name": "stdout",
          "text": [
            "Epoch 1/50\n",
            "469/469 [==============================] - 8s 8ms/step - loss: 2.2988 - accuracy: 0.1281 - val_loss: 2.2950 - val_accuracy: 0.1508\n",
            "Epoch 2/50\n",
            "469/469 [==============================] - 3s 6ms/step - loss: 2.2903 - accuracy: 0.1982 - val_loss: 2.2865 - val_accuracy: 0.2308\n",
            "Epoch 3/50\n",
            "469/469 [==============================] - 2s 5ms/step - loss: 2.2825 - accuracy: 0.2631 - val_loss: 2.2786 - val_accuracy: 0.2749\n",
            "Epoch 4/50\n",
            "469/469 [==============================] - 2s 5ms/step - loss: 2.2744 - accuracy: 0.2964 - val_loss: 2.2695 - val_accuracy: 0.3084\n",
            "Epoch 5/50\n",
            "469/469 [==============================] - 2s 5ms/step - loss: 2.2646 - accuracy: 0.3358 - val_loss: 2.2584 - val_accuracy: 0.3570\n",
            "Epoch 6/50\n",
            "469/469 [==============================] - 3s 6ms/step - loss: 2.2525 - accuracy: 0.3905 - val_loss: 2.2446 - val_accuracy: 0.4242\n",
            "Epoch 7/50\n",
            "469/469 [==============================] - 3s 6ms/step - loss: 2.2374 - accuracy: 0.4594 - val_loss: 2.2275 - val_accuracy: 0.4796\n",
            "Epoch 8/50\n",
            "469/469 [==============================] - 2s 5ms/step - loss: 2.2187 - accuracy: 0.5105 - val_loss: 2.2062 - val_accuracy: 0.5376\n",
            "Epoch 9/50\n",
            "469/469 [==============================] - 2s 5ms/step - loss: 2.1952 - accuracy: 0.5573 - val_loss: 2.1791 - val_accuracy: 0.5910\n",
            "Epoch 10/50\n",
            "469/469 [==============================] - 2s 5ms/step - loss: 2.1654 - accuracy: 0.6047 - val_loss: 2.1445 - val_accuracy: 0.6209\n",
            "Epoch 11/50\n",
            "469/469 [==============================] - 3s 6ms/step - loss: 2.1271 - accuracy: 0.6301 - val_loss: 2.0996 - val_accuracy: 0.6485\n",
            "Epoch 12/50\n",
            "469/469 [==============================] - 3s 6ms/step - loss: 2.0771 - accuracy: 0.6555 - val_loss: 2.0413 - val_accuracy: 0.6681\n",
            "Epoch 13/50\n",
            "469/469 [==============================] - 3s 5ms/step - loss: 2.0126 - accuracy: 0.6716 - val_loss: 1.9663 - val_accuracy: 0.6915\n",
            "Epoch 14/50\n",
            "469/469 [==============================] - 2s 5ms/step - loss: 1.9295 - accuracy: 0.6920 - val_loss: 1.8688 - val_accuracy: 0.7133\n",
            "Epoch 15/50\n",
            "469/469 [==============================] - 2s 5ms/step - loss: 1.8224 - accuracy: 0.7100 - val_loss: 1.7460 - val_accuracy: 0.7288\n",
            "Epoch 16/50\n",
            "469/469 [==============================] - 3s 7ms/step - loss: 1.6909 - accuracy: 0.7244 - val_loss: 1.5997 - val_accuracy: 0.7464\n",
            "Epoch 17/50\n",
            "469/469 [==============================] - 2s 5ms/step - loss: 1.5409 - accuracy: 0.7349 - val_loss: 1.4403 - val_accuracy: 0.7567\n",
            "Epoch 18/50\n",
            "469/469 [==============================] - 2s 5ms/step - loss: 1.3843 - accuracy: 0.7491 - val_loss: 1.2821 - val_accuracy: 0.7723\n",
            "Epoch 19/50\n",
            "469/469 [==============================] - 2s 5ms/step - loss: 1.2345 - accuracy: 0.7656 - val_loss: 1.1366 - val_accuracy: 0.7861\n",
            "Epoch 20/50\n",
            "469/469 [==============================] - 2s 5ms/step - loss: 1.1015 - accuracy: 0.7804 - val_loss: 1.0129 - val_accuracy: 0.7981\n",
            "Epoch 21/50\n",
            "469/469 [==============================] - 3s 7ms/step - loss: 0.9897 - accuracy: 0.7937 - val_loss: 0.9108 - val_accuracy: 0.8121\n",
            "Epoch 22/50\n",
            "469/469 [==============================] - 2s 5ms/step - loss: 0.8979 - accuracy: 0.8049 - val_loss: 0.8282 - val_accuracy: 0.8270\n",
            "Epoch 23/50\n",
            "469/469 [==============================] - 2s 5ms/step - loss: 0.8230 - accuracy: 0.8149 - val_loss: 0.7608 - val_accuracy: 0.8364\n",
            "Epoch 24/50\n",
            "469/469 [==============================] - 2s 5ms/step - loss: 0.7613 - accuracy: 0.8236 - val_loss: 0.7051 - val_accuracy: 0.8441\n",
            "Epoch 25/50\n",
            "469/469 [==============================] - 3s 5ms/step - loss: 0.7100 - accuracy: 0.8314 - val_loss: 0.6600 - val_accuracy: 0.8508\n",
            "Epoch 26/50\n",
            "469/469 [==============================] - 3s 7ms/step - loss: 0.6671 - accuracy: 0.8384 - val_loss: 0.6204 - val_accuracy: 0.8559\n",
            "Epoch 27/50\n",
            "469/469 [==============================] - 3s 6ms/step - loss: 0.6302 - accuracy: 0.8446 - val_loss: 0.5867 - val_accuracy: 0.8615\n",
            "Epoch 28/50\n",
            "469/469 [==============================] - 3s 5ms/step - loss: 0.5979 - accuracy: 0.8506 - val_loss: 0.5575 - val_accuracy: 0.8652\n",
            "Epoch 29/50\n",
            "469/469 [==============================] - 3s 5ms/step - loss: 0.5698 - accuracy: 0.8558 - val_loss: 0.5317 - val_accuracy: 0.8710\n",
            "Epoch 30/50\n",
            "469/469 [==============================] - 2s 5ms/step - loss: 0.5449 - accuracy: 0.8610 - val_loss: 0.5096 - val_accuracy: 0.8741\n",
            "Epoch 31/50\n",
            "469/469 [==============================] - 3s 7ms/step - loss: 0.5227 - accuracy: 0.8662 - val_loss: 0.4892 - val_accuracy: 0.8801\n",
            "Epoch 32/50\n",
            "469/469 [==============================] - 2s 5ms/step - loss: 0.5029 - accuracy: 0.8704 - val_loss: 0.4713 - val_accuracy: 0.8823\n",
            "Epoch 33/50\n",
            "469/469 [==============================] - 2s 5ms/step - loss: 0.4850 - accuracy: 0.8740 - val_loss: 0.4550 - val_accuracy: 0.8863\n",
            "Epoch 34/50\n",
            "469/469 [==============================] - 3s 5ms/step - loss: 0.4687 - accuracy: 0.8777 - val_loss: 0.4401 - val_accuracy: 0.8899\n",
            "Epoch 35/50\n",
            "469/469 [==============================] - 3s 6ms/step - loss: 0.4539 - accuracy: 0.8808 - val_loss: 0.4261 - val_accuracy: 0.8926\n",
            "Epoch 36/50\n",
            "469/469 [==============================] - 3s 6ms/step - loss: 0.4402 - accuracy: 0.8837 - val_loss: 0.4141 - val_accuracy: 0.8951\n",
            "Epoch 37/50\n",
            "469/469 [==============================] - 2s 5ms/step - loss: 0.4276 - accuracy: 0.8868 - val_loss: 0.4028 - val_accuracy: 0.8987\n",
            "Epoch 38/50\n",
            "469/469 [==============================] - 2s 5ms/step - loss: 0.4160 - accuracy: 0.8890 - val_loss: 0.3918 - val_accuracy: 0.8995\n",
            "Epoch 39/50\n",
            "469/469 [==============================] - 2s 5ms/step - loss: 0.4052 - accuracy: 0.8913 - val_loss: 0.3818 - val_accuracy: 0.9020\n",
            "Epoch 40/50\n",
            "469/469 [==============================] - 3s 7ms/step - loss: 0.3952 - accuracy: 0.8936 - val_loss: 0.3728 - val_accuracy: 0.9031\n",
            "Epoch 41/50\n",
            "469/469 [==============================] - 3s 6ms/step - loss: 0.3858 - accuracy: 0.8960 - val_loss: 0.3641 - val_accuracy: 0.9053\n",
            "Epoch 42/50\n",
            "469/469 [==============================] - 2s 5ms/step - loss: 0.3769 - accuracy: 0.8979 - val_loss: 0.3557 - val_accuracy: 0.9083\n",
            "Epoch 43/50\n",
            "469/469 [==============================] - 2s 5ms/step - loss: 0.3685 - accuracy: 0.9001 - val_loss: 0.3482 - val_accuracy: 0.9082\n",
            "Epoch 44/50\n",
            "469/469 [==============================] - 2s 5ms/step - loss: 0.3609 - accuracy: 0.9015 - val_loss: 0.3408 - val_accuracy: 0.9101\n",
            "Epoch 45/50\n",
            "469/469 [==============================] - 3s 6ms/step - loss: 0.3536 - accuracy: 0.9035 - val_loss: 0.3342 - val_accuracy: 0.9113\n",
            "Epoch 46/50\n",
            "469/469 [==============================] - 3s 6ms/step - loss: 0.3467 - accuracy: 0.9048 - val_loss: 0.3280 - val_accuracy: 0.9130\n",
            "Epoch 47/50\n",
            "469/469 [==============================] - 2s 5ms/step - loss: 0.3403 - accuracy: 0.9061 - val_loss: 0.3220 - val_accuracy: 0.9142\n",
            "Epoch 48/50\n",
            "469/469 [==============================] - 2s 5ms/step - loss: 0.3342 - accuracy: 0.9075 - val_loss: 0.3160 - val_accuracy: 0.9157\n",
            "Epoch 49/50\n",
            "469/469 [==============================] - 2s 5ms/step - loss: 0.3284 - accuracy: 0.9086 - val_loss: 0.3107 - val_accuracy: 0.9164\n",
            "Epoch 50/50\n",
            "469/469 [==============================] - 3s 6ms/step - loss: 0.3229 - accuracy: 0.9101 - val_loss: 0.3056 - val_accuracy: 0.9169\n",
            "313/313 [==============================] - 1s 3ms/step - loss: 0.3056 - accuracy: 0.9169\n",
            "Test loss:  0.3055974543094635\n",
            "Test accuracy:  0.9168999791145325\n"
          ]
        }
      ]
    },
    {
      "cell_type": "markdown",
      "source": [
        "## AlexNet"
      ],
      "metadata": {
        "id": "lijORKg_62O3"
      }
    },
    {
      "cell_type": "code",
      "source": [
        "from tensorflow.keras.datasets import cifar10\n",
        "from tensorflow.keras.preprocessing.image import ImageDataGenerator\n",
        "from tensorflow.keras.models import Sequential\n",
        "from tensorflow.keras.layers import Dense, Dropout, Activation, Flatten\n",
        "from tensorflow.keras.layers import Conv2D, MaxPooling2D, ZeroPadding2D\n",
        "from tensorflow.keras.layers import BatchNormalization\n",
        "from tensorflow.keras.regularizers import l2\n",
        "from tensorflow.keras.optimizers import Adadelta\n",
        "from tensorflow.keras.utils import to_categorical"
      ],
      "metadata": {
        "id": "_Osm1ZYj6rkc"
      },
      "execution_count": 12,
      "outputs": []
    },
    {
      "cell_type": "code",
      "source": [
        "(x_train, y_train), (x_test, y_test) = cifar10.load_data()\n",
        "\n",
        "print('x_train shape:', x_train.shape)\n",
        "print(x_train.shape[0], 'train samples')\n",
        "print(x_test.shape[0], 'test samples')\n",
        "\n",
        "num_classes = 10\n",
        "y_train = to_categorical(y_train, num_classes)\n",
        "y_test = to_categorical(y_test, num_classes)"
      ],
      "metadata": {
        "colab": {
          "base_uri": "https://localhost:8080/"
        },
        "id": "mwoOy6qf68E4",
        "outputId": "b303ed08-05d0-4df7-c65e-c151513accd2"
      },
      "execution_count": 13,
      "outputs": [
        {
          "output_type": "stream",
          "name": "stdout",
          "text": [
            "Downloading data from https://www.cs.toronto.edu/~kriz/cifar-10-python.tar.gz\n",
            "170498071/170498071 [==============================] - 13s 0us/step\n",
            "x_train shape: (50000, 32, 32, 3)\n",
            "50000 train samples\n",
            "10000 test samples\n"
          ]
        }
      ]
    },
    {
      "cell_type": "code",
      "source": [
        "l2_reg = 0.001\n",
        "\n",
        "model = Sequential()\n",
        "\n",
        "# 1st layer\n",
        "model.add(Conv2D(96, (11, 11), input_shape=x_train.shape[1:],\n",
        "                 padding=\"same\", kernel_regularizer=l2(l2_reg)))\n",
        "model.add(BatchNormalization())\n",
        "model.add(Activation('relu'))\n",
        "model.add(MaxPooling2D(pool_size=(2, 2)))\n",
        "\n",
        "# 2nd layer\n",
        "model.add(Conv2D(256, (5, 5), padding='same'))\n",
        "model.add(BatchNormalization())\n",
        "model.add(Activation('relu'))\n",
        "model.add(MaxPooling2D(pool_size=(2, 2)))\n",
        "\n",
        "# 3rd layer\n",
        "model.add(ZeroPadding2D((1, 1)))\n",
        "model.add(Conv2D(512, (3, 3), padding='same'))\n",
        "model.add(BatchNormalization())\n",
        "model.add(Activation('relu'))\n",
        "model.add(MaxPooling2D(pool_size=(2, 2)))\n",
        "\n",
        "# 4th layer\n",
        "model.add(ZeroPadding2D((1, 1)))\n",
        "model.add(Conv2D(1024, (3, 3), padding='same'))\n",
        "model.add(BatchNormalization())\n",
        "model.add(Activation('relu'))\n",
        "\n",
        "# 5th layer\n",
        "model.add(ZeroPadding2D((1, 1)))\n",
        "model.add(Conv2D(1024, (3, 3), padding='same'))\n",
        "model.add(BatchNormalization())\n",
        "model.add(Activation('relu'))\n",
        "model.add(MaxPooling2D(pool_size=(2, 2)))\n",
        "\n",
        "# 1st FC layer\n",
        "model.add(Flatten())\n",
        "model.add(Dense(3072))\n",
        "model.add(BatchNormalization())\n",
        "model.add(Activation('relu'))\n",
        "model.add(Dropout(0.5))\n",
        "\n",
        "# 2nd FC layer\n",
        "model.add(Dense(4096))\n",
        "model.add(BatchNormalization())\n",
        "model.add(Activation('relu'))\n",
        "model.add(Dropout(0.5))\n",
        "\n",
        "# 3rd FC layer\n",
        "model.add(Dense(num_classes))\n",
        "model.add(BatchNormalization())\n",
        "model.add(Activation('softmax'))\n",
        "\n",
        "print(model.summary())\n",
        "\n",
        "model.compile(loss='categorical_crossentropy',\n",
        "              optimizer=Adadelta(),\n",
        "              metrics=['accuracy'])"
      ],
      "metadata": {
        "colab": {
          "base_uri": "https://localhost:8080/"
        },
        "id": "QpA10wfm7A6u",
        "outputId": "d6ec174e-4de5-44ad-8c3f-8e9b337da70a"
      },
      "execution_count": 15,
      "outputs": [
        {
          "output_type": "stream",
          "name": "stdout",
          "text": [
            "Model: \"sequential_5\"\n",
            "_________________________________________________________________\n",
            " Layer (type)                Output Shape              Param #   \n",
            "=================================================================\n",
            " conv2d_17 (Conv2D)          (None, 32, 32, 96)        34944     \n",
            "                                                                 \n",
            " batch_normalization_8 (Bat  (None, 32, 32, 96)        384       \n",
            " chNormalization)                                                \n",
            "                                                                 \n",
            " activation_32 (Activation)  (None, 32, 32, 96)        0         \n",
            "                                                                 \n",
            " max_pooling2d_16 (MaxPooli  (None, 16, 16, 96)        0         \n",
            " ng2D)                                                           \n",
            "                                                                 \n",
            " conv2d_18 (Conv2D)          (None, 16, 16, 256)       614656    \n",
            "                                                                 \n",
            " batch_normalization_9 (Bat  (None, 16, 16, 256)       1024      \n",
            " chNormalization)                                                \n",
            "                                                                 \n",
            " activation_33 (Activation)  (None, 16, 16, 256)       0         \n",
            "                                                                 \n",
            " max_pooling2d_17 (MaxPooli  (None, 8, 8, 256)         0         \n",
            " ng2D)                                                           \n",
            "                                                                 \n",
            " zero_padding2d_3 (ZeroPadd  (None, 10, 10, 256)       0         \n",
            " ing2D)                                                          \n",
            "                                                                 \n",
            " conv2d_19 (Conv2D)          (None, 10, 10, 512)       1180160   \n",
            "                                                                 \n",
            " batch_normalization_10 (Ba  (None, 10, 10, 512)       2048      \n",
            " tchNormalization)                                               \n",
            "                                                                 \n",
            " activation_34 (Activation)  (None, 10, 10, 512)       0         \n",
            "                                                                 \n",
            " max_pooling2d_18 (MaxPooli  (None, 5, 5, 512)         0         \n",
            " ng2D)                                                           \n",
            "                                                                 \n",
            " zero_padding2d_4 (ZeroPadd  (None, 7, 7, 512)         0         \n",
            " ing2D)                                                          \n",
            "                                                                 \n",
            " conv2d_20 (Conv2D)          (None, 7, 7, 1024)        4719616   \n",
            "                                                                 \n",
            " batch_normalization_11 (Ba  (None, 7, 7, 1024)        4096      \n",
            " tchNormalization)                                               \n",
            "                                                                 \n",
            " activation_35 (Activation)  (None, 7, 7, 1024)        0         \n",
            "                                                                 \n",
            " zero_padding2d_5 (ZeroPadd  (None, 9, 9, 1024)        0         \n",
            " ing2D)                                                          \n",
            "                                                                 \n",
            " conv2d_21 (Conv2D)          (None, 9, 9, 1024)        9438208   \n",
            "                                                                 \n",
            " batch_normalization_12 (Ba  (None, 9, 9, 1024)        4096      \n",
            " tchNormalization)                                               \n",
            "                                                                 \n",
            " activation_36 (Activation)  (None, 9, 9, 1024)        0         \n",
            "                                                                 \n",
            " max_pooling2d_19 (MaxPooli  (None, 4, 4, 1024)        0         \n",
            " ng2D)                                                           \n",
            "                                                                 \n",
            " flatten_5 (Flatten)         (None, 16384)             0         \n",
            "                                                                 \n",
            " dense_15 (Dense)            (None, 3072)              50334720  \n",
            "                                                                 \n",
            " batch_normalization_13 (Ba  (None, 3072)              12288     \n",
            " tchNormalization)                                               \n",
            "                                                                 \n",
            " activation_37 (Activation)  (None, 3072)              0         \n",
            "                                                                 \n",
            " dropout_2 (Dropout)         (None, 3072)              0         \n",
            "                                                                 \n",
            " dense_16 (Dense)            (None, 4096)              12587008  \n",
            "                                                                 \n",
            " batch_normalization_14 (Ba  (None, 4096)              16384     \n",
            " tchNormalization)                                               \n",
            "                                                                 \n",
            " activation_38 (Activation)  (None, 4096)              0         \n",
            "                                                                 \n",
            " dropout_3 (Dropout)         (None, 4096)              0         \n",
            "                                                                 \n",
            " dense_17 (Dense)            (None, 10)                40970     \n",
            "                                                                 \n",
            " batch_normalization_15 (Ba  (None, 10)                40        \n",
            " tchNormalization)                                               \n",
            "                                                                 \n",
            " activation_39 (Activation)  (None, 10)                0         \n",
            "                                                                 \n",
            "=================================================================\n",
            "Total params: 78990642 (301.33 MB)\n",
            "Trainable params: 78970462 (301.25 MB)\n",
            "Non-trainable params: 20180 (78.83 KB)\n",
            "_________________________________________________________________\n",
            "None\n"
          ]
        }
      ]
    },
    {
      "cell_type": "code",
      "source": [
        "batch_size = 64\n",
        "epochs = 25\n",
        "\n",
        "history = model.fit(x_train, y_train,\n",
        "                    batch_size=batch_size,\n",
        "                    epochs=epochs,\n",
        "                    validation_data=(x_test, y_test),\n",
        "                    shuffle=True)\n",
        "\n",
        "scores = model.evaluate(x_test, y_test, verbose=1)\n",
        "print('Test loss: ', scores[0])\n",
        "print('Test accuracy: ', scores[1])"
      ],
      "metadata": {
        "colab": {
          "base_uri": "https://localhost:8080/"
        },
        "id": "aIX_ZU7T98q5",
        "outputId": "7a22e5dc-cd0c-4207-a64c-355882c34748"
      },
      "execution_count": 16,
      "outputs": [
        {
          "output_type": "stream",
          "name": "stdout",
          "text": [
            "Epoch 1/25\n",
            "782/782 [==============================] - 104s 117ms/step - loss: 2.1449 - accuracy: 0.2453 - val_loss: 1.7713 - val_accuracy: 0.3866\n",
            "Epoch 2/25\n",
            "782/782 [==============================] - 87s 112ms/step - loss: 1.8507 - accuracy: 0.3415 - val_loss: 1.6727 - val_accuracy: 0.4296\n",
            "Epoch 3/25\n",
            "782/782 [==============================] - 87s 111ms/step - loss: 1.7426 - accuracy: 0.3844 - val_loss: 1.6089 - val_accuracy: 0.4569\n",
            "Epoch 4/25\n",
            "782/782 [==============================] - 87s 112ms/step - loss: 1.6831 - accuracy: 0.4138 - val_loss: 1.5621 - val_accuracy: 0.4753\n",
            "Epoch 5/25\n",
            "782/782 [==============================] - 88s 112ms/step - loss: 1.6333 - accuracy: 0.4352 - val_loss: 1.5239 - val_accuracy: 0.4930\n",
            "Epoch 6/25\n",
            "782/782 [==============================] - 87s 112ms/step - loss: 1.5945 - accuracy: 0.4548 - val_loss: 1.4935 - val_accuracy: 0.5028\n",
            "Epoch 7/25\n",
            "782/782 [==============================] - 88s 112ms/step - loss: 1.5576 - accuracy: 0.4693 - val_loss: 1.4693 - val_accuracy: 0.5106\n",
            "Epoch 8/25\n",
            "782/782 [==============================] - 87s 112ms/step - loss: 1.5348 - accuracy: 0.4832 - val_loss: 1.4489 - val_accuracy: 0.5199\n",
            "Epoch 9/25\n",
            "782/782 [==============================] - 88s 112ms/step - loss: 1.5041 - accuracy: 0.4950 - val_loss: 1.4310 - val_accuracy: 0.5306\n",
            "Epoch 10/25\n",
            "782/782 [==============================] - 87s 112ms/step - loss: 1.4852 - accuracy: 0.5069 - val_loss: 1.4154 - val_accuracy: 0.5388\n",
            "Epoch 11/25\n",
            "782/782 [==============================] - 87s 112ms/step - loss: 1.4601 - accuracy: 0.5201 - val_loss: 1.3991 - val_accuracy: 0.5444\n",
            "Epoch 12/25\n",
            "782/782 [==============================] - 87s 111ms/step - loss: 1.4423 - accuracy: 0.5277 - val_loss: 1.3855 - val_accuracy: 0.5498\n",
            "Epoch 13/25\n",
            "782/782 [==============================] - 88s 112ms/step - loss: 1.4251 - accuracy: 0.5358 - val_loss: 1.3742 - val_accuracy: 0.5586\n",
            "Epoch 14/25\n",
            "782/782 [==============================] - 88s 112ms/step - loss: 1.4074 - accuracy: 0.5438 - val_loss: 1.3620 - val_accuracy: 0.5637\n",
            "Epoch 15/25\n",
            "782/782 [==============================] - 88s 113ms/step - loss: 1.3895 - accuracy: 0.5564 - val_loss: 1.3519 - val_accuracy: 0.5673\n",
            "Epoch 16/25\n",
            "782/782 [==============================] - 88s 112ms/step - loss: 1.3719 - accuracy: 0.5616 - val_loss: 1.3389 - val_accuracy: 0.5752\n",
            "Epoch 17/25\n",
            "782/782 [==============================] - 88s 112ms/step - loss: 1.3610 - accuracy: 0.5673 - val_loss: 1.3293 - val_accuracy: 0.5768\n",
            "Epoch 18/25\n",
            "782/782 [==============================] - 87s 112ms/step - loss: 1.3408 - accuracy: 0.5782 - val_loss: 1.3225 - val_accuracy: 0.5826\n",
            "Epoch 19/25\n",
            "782/782 [==============================] - 87s 112ms/step - loss: 1.3273 - accuracy: 0.5853 - val_loss: 1.3097 - val_accuracy: 0.5885\n",
            "Epoch 20/25\n",
            "782/782 [==============================] - 88s 112ms/step - loss: 1.3144 - accuracy: 0.5904 - val_loss: 1.3035 - val_accuracy: 0.5929\n",
            "Epoch 21/25\n",
            "782/782 [==============================] - 87s 112ms/step - loss: 1.2962 - accuracy: 0.6005 - val_loss: 1.2929 - val_accuracy: 0.5958\n",
            "Epoch 22/25\n",
            "782/782 [==============================] - 88s 112ms/step - loss: 1.2851 - accuracy: 0.6083 - val_loss: 1.2889 - val_accuracy: 0.5986\n",
            "Epoch 23/25\n",
            "782/782 [==============================] - 88s 112ms/step - loss: 1.2728 - accuracy: 0.6123 - val_loss: 1.2820 - val_accuracy: 0.6033\n",
            "Epoch 24/25\n",
            "782/782 [==============================] - 88s 112ms/step - loss: 1.2586 - accuracy: 0.6222 - val_loss: 1.2747 - val_accuracy: 0.6049\n",
            "Epoch 25/25\n",
            "782/782 [==============================] - 88s 112ms/step - loss: 1.2452 - accuracy: 0.6290 - val_loss: 1.2665 - val_accuracy: 0.6142\n",
            "313/313 [==============================] - 8s 20ms/step - loss: 1.2665 - accuracy: 0.6142\n",
            "Test loss:  1.2664806842803955\n",
            "Test accuracy:  0.6141999959945679\n"
          ]
        }
      ]
    },
    {
      "cell_type": "code",
      "source": [],
      "metadata": {
        "id": "xsyCqgqO_wty"
      },
      "execution_count": null,
      "outputs": []
    }
  ]
}