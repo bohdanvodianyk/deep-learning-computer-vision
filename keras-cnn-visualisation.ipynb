{
  "nbformat": 4,
  "nbformat_minor": 0,
  "metadata": {
    "colab": {
      "provenance": [],
      "gpuType": "T4"
    },
    "kernelspec": {
      "name": "python3",
      "display_name": "Python 3"
    },
    "language_info": {
      "name": "python"
    },
    "accelerator": "GPU"
  },
  "cells": [
    {
      "cell_type": "code",
      "execution_count": 1,
      "metadata": {
        "colab": {
          "base_uri": "https://localhost:8080/"
        },
        "id": "gKj3MatzVCsm",
        "outputId": "22cc1cbe-cdf5-4245-cc36-bf5c31066419"
      },
      "outputs": [
        {
          "output_type": "stream",
          "name": "stdout",
          "text": [
            "Downloading data from https://storage.googleapis.com/tensorflow/tf-keras-datasets/mnist.npz\n",
            "11490434/11490434 [==============================] - 1s 0us/step\n",
            "Initial shape or dimensions of x_train (60000, 28, 28)\n",
            "Number of samples in our training data: 60000\n",
            "Number of labels in our training data: 60000\n",
            "Number of samples in our test data: 10000\n",
            "Number of labels in our test data: 10000\n",
            "\n",
            "\n",
            "Dimensions of x_train:(28, 28)\n",
            "Labels in x_train:(60000,)\n",
            "\n",
            "\n",
            "Dimensions of x_test:(28, 28)\n",
            "Labels in y_test:(10000,)\n"
          ]
        }
      ],
      "source": [
        "from tensorflow.keras.datasets import mnist\n",
        "\n",
        "(x_train, y_train), (x_test, y_test)  = mnist.load_data()\n",
        "\n",
        "print(\"Initial shape or dimensions of x_train\", str(x_train.shape))\n",
        "\n",
        "print (\"Number of samples in our training data: \" + str(len(x_train)))\n",
        "print (\"Number of labels in our training data: \" + str(len(y_train)))\n",
        "print (\"Number of samples in our test data: \" + str(len(x_test)))\n",
        "print (\"Number of labels in our test data: \" + str(len(y_test)))\n",
        "\n",
        "print(\"\\n\")\n",
        "print (\"Dimensions of x_train:\" + str(x_train[0].shape))\n",
        "print (\"Labels in x_train:\" + str(y_train.shape))\n",
        "print(\"\\n\")\n",
        "print (\"Dimensions of x_test:\" + str(x_test[0].shape))\n",
        "print (\"Labels in y_test:\" + str(y_test.shape))"
      ]
    },
    {
      "cell_type": "code",
      "source": [
        "img_rows = x_train[0].shape[0]\n",
        "img_cols = x_train[0].shape[1]\n",
        "\n",
        "x_train = x_train.reshape(x_train.shape[0], img_rows, img_cols, 1)\n",
        "x_test = x_test.reshape(x_test.shape[0], img_rows, img_cols, 1)\n",
        "\n",
        "input_shape = (img_rows, img_cols, 1)\n",
        "\n",
        "x_train = x_train.astype('float32') #uint8 originally\n",
        "x_test = x_test.astype('float32')\n",
        "\n",
        "x_train /= 255.0\n",
        "x_test /= 255.0\n",
        "\n",
        "print('x_train shape:', x_train.shape)\n",
        "print(x_train.shape[0], 'train samples')\n",
        "print(x_test.shape[0], 'test samples')"
      ],
      "metadata": {
        "colab": {
          "base_uri": "https://localhost:8080/"
        },
        "id": "O3sIQlzmaKrf",
        "outputId": "1e3c82d5-463d-42b3-e1cc-a3cf4297b86c"
      },
      "execution_count": 2,
      "outputs": [
        {
          "output_type": "stream",
          "name": "stdout",
          "text": [
            "x_train shape: (60000, 28, 28, 1)\n",
            "60000 train samples\n",
            "10000 test samples\n"
          ]
        }
      ]
    },
    {
      "cell_type": "code",
      "source": [
        "from tensorflow.keras.utils import to_categorical\n",
        "\n",
        "# Now we one hot encode outputs\n",
        "y_train = to_categorical(y_train)\n",
        "y_test = to_categorical(y_test)\n",
        "\n",
        "print (\"Number of Classes: \" + str(y_test.shape[1]))\n",
        "\n",
        "num_classes = y_test.shape[1]\n",
        "num_pixels = x_train.shape[1] * x_train.shape[2]"
      ],
      "metadata": {
        "colab": {
          "base_uri": "https://localhost:8080/"
        },
        "id": "WETNIiFPaRAP",
        "outputId": "7fee7357-61e1-478b-df4e-7ec9375f4059"
      },
      "execution_count": 3,
      "outputs": [
        {
          "output_type": "stream",
          "name": "stdout",
          "text": [
            "Number of Classes: 10\n"
          ]
        }
      ]
    },
    {
      "cell_type": "code",
      "source": [
        "from tensorflow.keras.models import Sequential\n",
        "from tensorflow.keras.layers import Dense, Dropout, Flatten\n",
        "from tensorflow.keras.layers import Conv2D, MaxPooling2D\n",
        "from tensorflow.keras import backend as K\n",
        "from tensorflow.keras.optimizers import SGD\n",
        "\n",
        "model = Sequential()\n",
        "model.add(Conv2D(32, kernel_size=(3, 3), activation='relu', input_shape=input_shape))\n",
        "model.add(Conv2D(64, (3, 3), activation='relu'))\n",
        "model.add(MaxPooling2D(pool_size=(2, 2)))\n",
        "model.add(Flatten())\n",
        "model.add(Dense(128, activation='relu'))\n",
        "model.add(Dense(num_classes, activation='softmax'))\n",
        "\n",
        "model.compile(loss = 'categorical_crossentropy',\n",
        "              optimizer = SGD(0.001),\n",
        "              metrics = ['accuracy'])\n",
        "\n",
        "print(model.summary())"
      ],
      "metadata": {
        "colab": {
          "base_uri": "https://localhost:8080/"
        },
        "id": "9aV5U84haT2y",
        "outputId": "b00a53c0-3b18-44a7-e42c-ef9588f833e2"
      },
      "execution_count": 4,
      "outputs": [
        {
          "output_type": "stream",
          "name": "stdout",
          "text": [
            "Model: \"sequential\"\n",
            "_________________________________________________________________\n",
            " Layer (type)                Output Shape              Param #   \n",
            "=================================================================\n",
            " conv2d (Conv2D)             (None, 26, 26, 32)        320       \n",
            "                                                                 \n",
            " conv2d_1 (Conv2D)           (None, 24, 24, 64)        18496     \n",
            "                                                                 \n",
            " max_pooling2d (MaxPooling2  (None, 12, 12, 64)        0         \n",
            " D)                                                              \n",
            "                                                                 \n",
            " flatten (Flatten)           (None, 9216)              0         \n",
            "                                                                 \n",
            " dense (Dense)               (None, 128)               1179776   \n",
            "                                                                 \n",
            " dense_1 (Dense)             (None, 10)                1290      \n",
            "                                                                 \n",
            "=================================================================\n",
            "Total params: 1199882 (4.58 MB)\n",
            "Trainable params: 1199882 (4.58 MB)\n",
            "Non-trainable params: 0 (0.00 Byte)\n",
            "_________________________________________________________________\n",
            "None\n"
          ]
        }
      ]
    },
    {
      "cell_type": "code",
      "source": [
        "batch_size = 128\n",
        "epochs = 10\n",
        "\n",
        "history = model.fit(x_train,\n",
        "                    y_train,\n",
        "                    batch_size = batch_size,\n",
        "                    epochs = epochs,\n",
        "                    verbose = 1,\n",
        "                    validation_data = (x_test, y_test))\n",
        "\n",
        "score = model.evaluate(x_test, y_test, verbose=0)\n",
        "print('Test loss:', score[0])\n",
        "print('Test accuracy:', score[1])"
      ],
      "metadata": {
        "colab": {
          "base_uri": "https://localhost:8080/"
        },
        "id": "K8u4PMV9aW2N",
        "outputId": "b2e43fdb-d0a5-4402-8eaa-0ab9bbf6fe4e"
      },
      "execution_count": 5,
      "outputs": [
        {
          "output_type": "stream",
          "name": "stdout",
          "text": [
            "Epoch 1/10\n",
            "469/469 [==============================] - 8s 9ms/step - loss: 2.2416 - accuracy: 0.2924 - val_loss: 2.1467 - val_accuracy: 0.5595\n",
            "Epoch 2/10\n",
            "469/469 [==============================] - 4s 9ms/step - loss: 1.8436 - accuracy: 0.6565 - val_loss: 1.3046 - val_accuracy: 0.7437\n",
            "Epoch 3/10\n",
            "469/469 [==============================] - 4s 9ms/step - loss: 0.8584 - accuracy: 0.8054 - val_loss: 0.5604 - val_accuracy: 0.8608\n",
            "Epoch 4/10\n",
            "469/469 [==============================] - 4s 8ms/step - loss: 0.4935 - accuracy: 0.8670 - val_loss: 0.4121 - val_accuracy: 0.8891\n",
            "Epoch 5/10\n",
            "469/469 [==============================] - 4s 9ms/step - loss: 0.4006 - accuracy: 0.8878 - val_loss: 0.3575 - val_accuracy: 0.8994\n",
            "Epoch 6/10\n",
            "469/469 [==============================] - 5s 11ms/step - loss: 0.3585 - accuracy: 0.8977 - val_loss: 0.3285 - val_accuracy: 0.9092\n",
            "Epoch 7/10\n",
            "469/469 [==============================] - 4s 9ms/step - loss: 0.3327 - accuracy: 0.9038 - val_loss: 0.3065 - val_accuracy: 0.9122\n",
            "Epoch 8/10\n",
            "469/469 [==============================] - 5s 11ms/step - loss: 0.3140 - accuracy: 0.9092 - val_loss: 0.2907 - val_accuracy: 0.9180\n",
            "Epoch 9/10\n",
            "469/469 [==============================] - 4s 8ms/step - loss: 0.2993 - accuracy: 0.9130 - val_loss: 0.2775 - val_accuracy: 0.9195\n",
            "Epoch 10/10\n",
            "469/469 [==============================] - 4s 8ms/step - loss: 0.2865 - accuracy: 0.9171 - val_loss: 0.2675 - val_accuracy: 0.9234\n",
            "Test loss: 0.2674778997898102\n",
            "Test accuracy: 0.9233999848365784\n"
          ]
        }
      ]
    },
    {
      "cell_type": "code",
      "source": [
        "layer_dict = dict([(layer.name, layer) for layer in model.layers])\n",
        "layer_dict"
      ],
      "metadata": {
        "colab": {
          "base_uri": "https://localhost:8080/"
        },
        "id": "Ee6YqvxQacJU",
        "outputId": "22e95136-dc56-425c-a5ec-733a92a87e04"
      },
      "execution_count": 7,
      "outputs": [
        {
          "output_type": "execute_result",
          "data": {
            "text/plain": [
              "{'conv2d': <keras.src.layers.convolutional.conv2d.Conv2D at 0x79a91c42e800>,\n",
              " 'conv2d_1': <keras.src.layers.convolutional.conv2d.Conv2D at 0x79a884f1f4f0>,\n",
              " 'max_pooling2d': <keras.src.layers.pooling.max_pooling2d.MaxPooling2D at 0x79a884f1f9a0>,\n",
              " 'flatten': <keras.src.layers.reshaping.flatten.Flatten at 0x79a884f1df00>,\n",
              " 'dense': <keras.src.layers.core.dense.Dense at 0x79a88466d300>,\n",
              " 'dense_1': <keras.src.layers.core.dense.Dense at 0x79a88466d3f0>}"
            ]
          },
          "metadata": {},
          "execution_count": 7
        }
      ]
    },
    {
      "cell_type": "code",
      "source": [
        "for layer in model.layers:\n",
        "  if \"conv\" not in layer.name:\n",
        "    continue\n",
        "\n",
        "  filters, biases = layer.get_weights()\n",
        "  print(layer.name, filters.shape)"
      ],
      "metadata": {
        "colab": {
          "base_uri": "https://localhost:8080/"
        },
        "id": "ZHVEBhJ3au0B",
        "outputId": "cbd247d5-e258-4cf3-88f4-8ea852662fb8"
      },
      "execution_count": 13,
      "outputs": [
        {
          "output_type": "stream",
          "name": "stdout",
          "text": [
            "conv2d (3, 3, 1, 32)\n",
            "conv2d_1 (3, 3, 32, 64)\n"
          ]
        }
      ]
    },
    {
      "cell_type": "code",
      "source": [
        "filters, biases = model.layers[0].get_weights()"
      ],
      "metadata": {
        "id": "YXufJLbabGxk"
      },
      "execution_count": 14,
      "outputs": []
    },
    {
      "cell_type": "code",
      "source": [
        "print(filters.shape)\n",
        "filters"
      ],
      "metadata": {
        "colab": {
          "base_uri": "https://localhost:8080/"
        },
        "id": "zDCuwhL3bp7m",
        "outputId": "ea35b17a-55d8-40ce-c362-98dc4e86e080"
      },
      "execution_count": 15,
      "outputs": [
        {
          "output_type": "stream",
          "name": "stdout",
          "text": [
            "(3, 3, 1, 32)\n"
          ]
        },
        {
          "output_type": "execute_result",
          "data": {
            "text/plain": [
              "array([[[[ 4.28460799e-02, -1.39031693e-01,  2.03667991e-02,\n",
              "          -1.17574543e-01,  4.40691113e-02, -8.19744840e-02,\n",
              "          -8.76596645e-02,  2.14400422e-03, -5.46891475e-03,\n",
              "          -1.09648339e-01,  7.00644702e-02, -7.90272057e-02,\n",
              "          -3.72824110e-02, -2.01286878e-02, -4.97464463e-02,\n",
              "           9.63705406e-02,  4.91332747e-02, -1.16357893e-01,\n",
              "           1.72466412e-02,  9.04326588e-02, -1.10625699e-02,\n",
              "          -1.19538754e-01,  1.53522417e-01, -6.09645806e-02,\n",
              "           3.21772601e-03, -1.82534214e-02,  1.19431764e-01,\n",
              "          -1.00002494e-02,  1.28805667e-01,  1.48377735e-02,\n",
              "           1.19673409e-01,  4.85211567e-05]],\n",
              "\n",
              "        [[ 2.79123902e-01, -9.21255425e-02, -8.03042725e-02,\n",
              "          -7.24599138e-02,  2.81591862e-01, -1.21561296e-01,\n",
              "           1.27709776e-01, -7.93654993e-02, -3.55903320e-02,\n",
              "           4.25428376e-02, -6.92233723e-03, -6.26669899e-02,\n",
              "           7.30106905e-02,  2.80613378e-02, -2.51450893e-02,\n",
              "          -1.09226823e-01,  6.00968348e-03,  1.14154778e-01,\n",
              "          -6.93539605e-02,  8.04205462e-02,  2.07929835e-02,\n",
              "           3.18396278e-02,  1.25578761e-01,  2.66674664e-02,\n",
              "           1.43693641e-01,  1.48080930e-01,  8.63950886e-03,\n",
              "           9.44336783e-03, -2.05093659e-02, -9.88163427e-02,\n",
              "          -3.57968584e-02,  1.07295193e-01]],\n",
              "\n",
              "        [[ 1.72051817e-01,  2.21254095e-03,  6.83306456e-02,\n",
              "           9.31208506e-02,  3.27742875e-01,  6.16428740e-02,\n",
              "           1.22699188e-02,  8.36818293e-02, -1.25705868e-01,\n",
              "           2.26573348e-02, -1.08649433e-02, -1.00442298e-01,\n",
              "          -2.00852063e-02, -6.58560172e-03, -1.26276776e-01,\n",
              "           9.39868242e-02,  1.38406366e-01, -2.99009662e-02,\n",
              "          -5.58722392e-02,  1.88724503e-01,  7.03753904e-02,\n",
              "           1.24152847e-01,  1.25325054e-01, -5.44420891e-02,\n",
              "           2.21005782e-01, -7.47965723e-02, -5.30963531e-03,\n",
              "          -8.44553486e-02,  2.00855240e-01, -1.76240113e-02,\n",
              "          -8.12673718e-02, -5.80916665e-02]]],\n",
              "\n",
              "\n",
              "       [[[ 1.48771033e-01, -1.25366032e-01,  9.48866457e-02,\n",
              "           1.76054686e-02,  3.45179290e-01, -1.35983313e-02,\n",
              "          -1.30904451e-01,  1.52133837e-01, -1.73741914e-02,\n",
              "          -6.72949776e-02,  1.66464671e-01, -1.35779753e-01,\n",
              "           1.10955432e-01,  5.52749112e-02,  9.57980901e-02,\n",
              "          -1.10406481e-01,  5.18690385e-02, -7.42591619e-02,\n",
              "           1.34975001e-01, -4.02650572e-02, -1.17161706e-01,\n",
              "          -1.04812302e-01, -8.27359408e-03,  1.43008754e-01,\n",
              "           1.89150825e-01, -5.59339114e-02, -1.32765934e-01,\n",
              "           8.44359994e-02,  2.07557410e-01,  7.54854232e-02,\n",
              "          -1.16673768e-01, -1.22808032e-01]],\n",
              "\n",
              "        [[ 3.37404549e-01, -1.04001425e-01,  4.30551954e-02,\n",
              "          -1.27096683e-01,  3.43156576e-01,  9.40108672e-02,\n",
              "           6.17367849e-02,  2.82420707e-03, -1.34425819e-01,\n",
              "           5.32138757e-02,  9.16968808e-02,  8.80405679e-02,\n",
              "          -7.97505900e-02,  8.89948830e-02,  8.13868195e-02,\n",
              "          -4.01283316e-02,  2.27003083e-01, -1.38989806e-01,\n",
              "          -6.26571029e-02,  1.80244908e-01,  9.15437266e-02,\n",
              "           6.03127107e-02,  1.48022175e-01,  7.37479031e-02,\n",
              "           1.45650789e-01,  1.16820700e-01,  3.99835333e-02,\n",
              "           1.02508292e-01,  6.80867955e-02, -4.48740125e-02,\n",
              "           1.13377497e-01, -1.40123457e-01]],\n",
              "\n",
              "        [[ 2.45426267e-01,  1.20863087e-01, -7.48976246e-02,\n",
              "          -6.54007569e-02,  2.75140911e-01, -3.77197713e-02,\n",
              "          -8.03527683e-02,  1.07805140e-01, -1.17796093e-01,\n",
              "          -1.24435410e-01,  2.13869676e-01, -9.99378040e-02,\n",
              "          -6.71000034e-02, -1.04066812e-01,  9.20990855e-02,\n",
              "          -1.03097893e-01,  2.32975110e-01, -2.90062577e-02,\n",
              "          -1.12910897e-01,  3.26887295e-02, -1.05722202e-03,\n",
              "          -1.27338514e-01,  1.36599764e-01, -2.44184956e-02,\n",
              "           1.30132586e-01,  1.20709911e-01,  1.51386783e-01,\n",
              "          -8.00711587e-02,  1.76064565e-03, -1.21795401e-01,\n",
              "          -5.98021448e-02, -1.25929967e-01]]],\n",
              "\n",
              "\n",
              "       [[[ 2.66311377e-01, -7.93559402e-02, -1.84863359e-02,\n",
              "          -5.94149344e-02,  2.08286256e-01,  1.19272605e-01,\n",
              "           1.06170014e-01,  7.84099251e-02,  1.26521373e-02,\n",
              "           2.27157529e-02,  1.80353776e-01,  6.68870062e-02,\n",
              "          -3.15437540e-02, -1.09942272e-01, -8.86722878e-02,\n",
              "           7.45637342e-02,  2.34141827e-01, -4.99559240e-03,\n",
              "          -1.19855940e-01, -6.96028993e-02, -1.24036469e-01,\n",
              "           1.06080756e-01,  4.64600697e-02,  2.93437559e-02,\n",
              "           1.79157123e-01,  1.16562024e-01, -1.12193115e-02,\n",
              "          -3.48912440e-02,  1.62365902e-02, -7.03361854e-02,\n",
              "           1.01950571e-01,  8.62923414e-02]],\n",
              "\n",
              "        [[ 2.31940597e-01,  3.93962115e-02, -1.06697582e-01,\n",
              "          -1.19872428e-01,  3.16571862e-01, -1.08209485e-02,\n",
              "          -1.15857400e-01,  1.77287757e-01,  9.07859504e-02,\n",
              "          -1.07849456e-01, -2.78320983e-02,  3.41109857e-02,\n",
              "          -1.29258141e-01, -8.86651054e-02, -5.20205125e-02,\n",
              "           8.67846236e-03,  5.31930327e-02, -1.23661151e-02,\n",
              "           8.00616965e-02, -6.79682428e-03, -2.11128052e-02,\n",
              "          -1.14428021e-01,  8.06841105e-02, -9.90838334e-02,\n",
              "          -1.99654363e-02,  4.02032956e-03, -1.19139619e-01,\n",
              "          -1.06177062e-01, -3.70566919e-02, -6.68112412e-02,\n",
              "          -1.01457108e-02, -8.75984579e-02]],\n",
              "\n",
              "        [[ 2.46997267e-01,  1.15864575e-01,  7.39728957e-02,\n",
              "          -5.74177764e-02,  2.89798886e-01, -1.14298187e-01,\n",
              "          -1.35293841e-01, -7.07923342e-03, -1.19030094e-02,\n",
              "          -9.34234411e-02,  4.22196239e-02,  9.56506878e-02,\n",
              "          -1.31723002e-01, -5.36463335e-02,  1.58142056e-02,\n",
              "          -1.35240272e-01,  1.62105903e-01,  1.32243903e-02,\n",
              "          -8.89666751e-02,  6.72169849e-02, -1.89070515e-02,\n",
              "           9.23977643e-02,  1.80180848e-01, -1.76187009e-02,\n",
              "           1.87956929e-01,  1.13397680e-01,  1.48837581e-01,\n",
              "           8.71919915e-02,  1.64381936e-01, -1.38824254e-01,\n",
              "          -9.93107483e-02, -9.14819315e-02]]]], dtype=float32)"
            ]
          },
          "metadata": {},
          "execution_count": 15
        }
      ]
    },
    {
      "cell_type": "code",
      "source": [
        "print(biases.shape)\n",
        "biases"
      ],
      "metadata": {
        "colab": {
          "base_uri": "https://localhost:8080/"
        },
        "id": "x55rB54xbs7T",
        "outputId": "d91facd9-108c-47b9-cf30-7a8bbbf02e38"
      },
      "execution_count": 16,
      "outputs": [
        {
          "output_type": "stream",
          "name": "stdout",
          "text": [
            "(32,)\n"
          ]
        },
        {
          "output_type": "execute_result",
          "data": {
            "text/plain": [
              "array([ 1.6495915e-02,  2.8787574e-02, -9.5693944e-03,  4.5527045e-02,\n",
              "        2.6439087e-02,  1.1042616e-04,  2.0094856e-03,  1.9337004e-02,\n",
              "       -1.0848356e-03,  2.1654814e-02,  5.1215366e-03,  5.5540428e-02,\n",
              "        2.1088759e-03, -5.9212525e-03,  1.4798936e-05,  3.1780038e-02,\n",
              "        1.8474501e-02,  3.6322564e-02,  3.4702104e-02,  5.5377214e-04,\n",
              "       -2.0852156e-03,  2.1578761e-02,  3.7525730e-05,  3.1888124e-02,\n",
              "        7.8365663e-03,  1.0973657e-02,  2.0430502e-05,  1.0493574e-02,\n",
              "        3.7036654e-05,  1.2877143e-02, -1.2068829e-02, -5.3141122e-03],\n",
              "      dtype=float32)"
            ]
          },
          "metadata": {},
          "execution_count": 16
        }
      ]
    },
    {
      "cell_type": "code",
      "source": [
        "f_min, f_max = filters.min(), filters.max()\n",
        "print(f\"Before Normalisation, Min = {f_min} and Max = {f_max}\")\n",
        "\n",
        "filters = (filters - f_min)/(f_max - f_min)\n",
        "print(f\"Before Normalisation, Min = {filters.min()} and Max = {filters.max()}\")"
      ],
      "metadata": {
        "colab": {
          "base_uri": "https://localhost:8080/"
        },
        "id": "eu6PcENVcE5Z",
        "outputId": "7e87a7ba-5ce8-49b7-f647-97c9907f7d65"
      },
      "execution_count": 18,
      "outputs": [
        {
          "output_type": "stream",
          "name": "stdout",
          "text": [
            "Before Normalisation, Min = -0.14012345671653748 and Max = 0.3451792895793915\n",
            "Before Normalisation, Min = 0.0 and Max = 1.0\n"
          ]
        }
      ]
    },
    {
      "cell_type": "code",
      "source": [
        "import matplotlib.pyplot as plt\n",
        "import numpy as np\n",
        "\n",
        "n_filters, ix = 32, 1\n",
        "plt.figure(figsize=(12, 20))\n",
        "\n",
        "for i in range(n_filters):\n",
        "  f = filters[:, :, :, i]\n",
        "\n",
        "  ax = plt.subplot(n_filters, 4, ix)\n",
        "  ax.set_xticks([])\n",
        "  ax.set_yticks([])\n",
        "\n",
        "  plt.imshow(np.squeeze(f, axis=2), cmap=\"gray\")\n",
        "  ix += 1\n",
        "\n",
        "plt.show()"
      ],
      "metadata": {
        "colab": {
          "base_uri": "https://localhost:8080/",
          "height": 415
        },
        "id": "_WOhwW3rcb6c",
        "outputId": "83ec8e71-8f9a-40a1-d932-d020fda1a9ce"
      },
      "execution_count": 19,
      "outputs": [
        {
          "output_type": "display_data",
          "data": {
            "text/plain": [
              "<Figure size 1200x2000 with 32 Axes>"
            ],
            "image/png": "[encoded data removed]"
          },
          "metadata": {}
        }
      ]
    },
    {
      "cell_type": "code",
      "source": [
        "from tensorflow.keras.models import Model\n",
        "\n",
        "layer_outputs = [layer.output for layer in model.layers[:2]]\n",
        "\n",
        "activation_model = Model(inputs=model.input, outputs=layer_outputs)"
      ],
      "metadata": {
        "id": "pvgIzc36dhnF"
      },
      "execution_count": 20,
      "outputs": []
    },
    {
      "cell_type": "code",
      "source": [
        "img_tensor = x_test[22].reshape(1, 28, 28, 1)\n",
        "fig = plt.figure(figsize=(5,5))\n",
        "plt.imshow(img_tensor[0,:,:,0], cmap=\"gray\")\n",
        "plt.axis(\"off\")"
      ],
      "metadata": {
        "colab": {
          "base_uri": "https://localhost:8080/",
          "height": 439
        },
        "id": "eVVYhyeJgLVe",
        "outputId": "f896487e-6791-4b2c-ce5b-96fcec2f2b48"
      },
      "execution_count": 21,
      "outputs": [
        {
          "output_type": "execute_result",
          "data": {
            "text/plain": [
              "(-0.5, 27.5, 27.5, -0.5)"
            ]
          },
          "metadata": {},
          "execution_count": 21
        },
        {
          "output_type": "display_data",
          "data": {
            "text/plain": [
              "<Figure size 500x500 with 1 Axes>"
            ],
            "image/png": "[encoded data removed]"
          },
          "metadata": {}
        }
      ]
    },
    {
      "cell_type": "code",
      "source": [
        "activations = activation_model.predict(img_tensor)"
      ],
      "metadata": {
        "colab": {
          "base_uri": "https://localhost:8080/"
        },
        "id": "RZQ6nXcUgcnU",
        "outputId": "01c1108e-6c7b-4074-e76b-edddda40fb1b"
      },
      "execution_count": 24,
      "outputs": [
        {
          "output_type": "stream",
          "name": "stdout",
          "text": [
            "1/1 [==============================] - 0s 25ms/step\n"
          ]
        }
      ]
    },
    {
      "cell_type": "code",
      "source": [
        "print(\"Number of layer activations: \" + str(len(activations)))"
      ],
      "metadata": {
        "colab": {
          "base_uri": "https://localhost:8080/"
        },
        "id": "kpUYCtSnghW1",
        "outputId": "0e1503f7-44b7-4e12-9c8e-5cc4a32c4e04"
      },
      "execution_count": 25,
      "outputs": [
        {
          "output_type": "stream",
          "name": "stdout",
          "text": [
            "Number of layer activations: 2\n"
          ]
        }
      ]
    },
    {
      "cell_type": "code",
      "source": [
        "first_layer_activation = activations[0]\n",
        "print(first_layer_activation.shape)"
      ],
      "metadata": {
        "colab": {
          "base_uri": "https://localhost:8080/"
        },
        "id": "c_X9EY-CgkEJ",
        "outputId": "8d162c67-0631-40c6-8fd8-946297ba9cff"
      },
      "execution_count": 26,
      "outputs": [
        {
          "output_type": "stream",
          "name": "stdout",
          "text": [
            "(1, 26, 26, 32)\n"
          ]
        }
      ]
    },
    {
      "cell_type": "code",
      "source": [
        "second_layer_activation = activations[1]\n",
        "print(second_layer_activation.shape)"
      ],
      "metadata": {
        "colab": {
          "base_uri": "https://localhost:8080/"
        },
        "id": "FC18PQtggofY",
        "outputId": "58ce8bc8-02e6-49a4-8240-b425928443d8"
      },
      "execution_count": 27,
      "outputs": [
        {
          "output_type": "stream",
          "name": "stdout",
          "text": [
            "(1, 24, 24, 64)\n"
          ]
        }
      ]
    },
    {
      "cell_type": "code",
      "source": [
        "print(model.summary())"
      ],
      "metadata": {
        "colab": {
          "base_uri": "https://localhost:8080/"
        },
        "id": "cEzM_YIzgpBT",
        "outputId": "3b931905-ad5b-42f2-c9a9-a465da54c7b5"
      },
      "execution_count": 28,
      "outputs": [
        {
          "output_type": "stream",
          "name": "stdout",
          "text": [
            "Model: \"sequential\"\n",
            "_________________________________________________________________\n",
            " Layer (type)                Output Shape              Param #   \n",
            "=================================================================\n",
            " conv2d (Conv2D)             (None, 26, 26, 32)        320       \n",
            "                                                                 \n",
            " conv2d_1 (Conv2D)           (None, 24, 24, 64)        18496     \n",
            "                                                                 \n",
            " max_pooling2d (MaxPooling2  (None, 12, 12, 64)        0         \n",
            " D)                                                              \n",
            "                                                                 \n",
            " flatten (Flatten)           (None, 9216)              0         \n",
            "                                                                 \n",
            " dense (Dense)               (None, 128)               1179776   \n",
            "                                                                 \n",
            " dense_1 (Dense)             (None, 10)                1290      \n",
            "                                                                 \n",
            "=================================================================\n",
            "Total params: 1199882 (4.58 MB)\n",
            "Trainable params: 1199882 (4.58 MB)\n",
            "Non-trainable params: 0 (0.00 Byte)\n",
            "_________________________________________________________________\n",
            "None\n"
          ]
        }
      ]
    },
    {
      "cell_type": "code",
      "source": [
        "plt.matshow(first_layer_activation[0, :, :, 3], cmap='viridis')\n",
        "plt.legend()"
      ],
      "metadata": {
        "colab": {
          "base_uri": "https://localhost:8080/",
          "height": 472
        },
        "id": "YMkfoKZ1gqJg",
        "outputId": "26ba5c57-1f72-4f6e-97c7-de5a044f498b"
      },
      "execution_count": 29,
      "outputs": [
        {
          "output_type": "stream",
          "name": "stderr",
          "text": [
            "WARNING:matplotlib.legend:No artists with labels found to put in legend.  Note that artists whose label start with an underscore are ignored when legend() is called with no argument.\n"
          ]
        },
        {
          "output_type": "execute_result",
          "data": {
            "text/plain": [
              "<matplotlib.legend.Legend at 0x79a7e6891de0>"
            ]
          },
          "metadata": {},
          "execution_count": 29
        },
        {
          "output_type": "display_data",
          "data": {
            "text/plain": [
              "<Figure size 480x480 with 1 Axes>"
            ],
            "image/png": "[encoded data removed]"
          },
          "metadata": {}
        }
      ]
    },
    {
      "cell_type": "code",
      "source": [
        "def display_activation(activation, col_size, row_size, act_index):\n",
        "  activation = activation[act_index]\n",
        "  activation_index = 0\n",
        "  fig, ax = plt.subplots(row_size, col_size, figsize=(row_size*2.5, col_size*1.5))\n",
        "  for row in range(0, row_size):\n",
        "    for col in range(0, col_size):\n",
        "      ax[row][col].imshow(activation[0, :, :, activation_index], cmap=\"viridis\")\n",
        "      activation_index += 1"
      ],
      "metadata": {
        "id": "soWmGbgugyzk"
      },
      "execution_count": 34,
      "outputs": []
    },
    {
      "cell_type": "code",
      "source": [
        "display_activation(activations, 4, 8, 0)"
      ],
      "metadata": {
        "colab": {
          "base_uri": "https://localhost:8080/",
          "height": 527
        },
        "id": "DF_zk8BJheyy",
        "outputId": "1b136f20-c569-4f0e-ca69-81a763bdb1e6"
      },
      "execution_count": 35,
      "outputs": [
        {
          "output_type": "display_data",
          "data": {
            "text/plain": [
              "<Figure size 2000x600 with 32 Axes>"
            ],
            "image/png": "[encoded data removed]"
          },
          "metadata": {}
        }
      ]
    },
    {
      "cell_type": "code",
      "source": [],
      "metadata": {
        "id": "2m1qjc_ihj6w"
      },
      "execution_count": null,
      "outputs": []
    }
  ]
}